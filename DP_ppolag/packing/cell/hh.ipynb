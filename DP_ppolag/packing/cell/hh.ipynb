{
 "cells": [
  {
   "cell_type": "code",
   "execution_count": 44,
   "metadata": {},
   "outputs": [
    {
     "data": {
      "text/plain": [
       "array([[-4.00000000e+00,  6.12323400e-16, -1.00000000e+00],\n",
       "       [ 2.44929360e-16,  2.00000000e+00,  2.44929360e-16],\n",
       "       [ 2.99951957e-32,  2.44929360e-16, -2.00000000e+00]])"
      ]
     },
     "execution_count": 44,
     "metadata": {},
     "output_type": "execute_result"
    }
   ],
   "source": [
    "import math\n",
    "import numpy as np\n",
    "\n",
    "import torch\n",
    "from pytorch3d import transforms\n",
    "\n",
    "class Transform():\n",
    "    def __init__(self):\n",
    "        pass\n",
    "\n",
    "    def euler2mat(self, angle):\n",
    "        \"\"\"\n",
    "        Convert rotations given as Euler angles in radians to rotation matrices.\n",
    "        \"\"\"\n",
    "        x = torch.as_tensor(angle, dtype=torch.double)\n",
    "        mat = transforms.euler_angles_to_matrix(x, \"ZYX\")\n",
    "        return mat\n",
    "    \n",
    "    def euler2qua(self, angle, convention='Hamilton'):\n",
    "        \"\"\"\n",
    "        Convert euler angle to quaternion (two type of convention):\n",
    "            Hamilton = (w, x, y, z), by default\n",
    "            JPL = (x, y, z, w)  \n",
    "        \"\"\"\n",
    "        x = self.euler2mat(angle)\n",
    "        qua = transforms.matrix_to_quaternion(x)\n",
    "\n",
    "        if convention == 'Hamilton': return qua\n",
    "        elif convention == 'JPL':\n",
    "            temp = torch.tensor(np.expand_dims(qua[0], 0))\n",
    "            return torch.cat([qua[1:], temp])\n",
    "    \n",
    "    def euler_rotate(self, angle, point):\n",
    "        \"\"\" Apply the rotation given by a quaternion to a 3D point. \"\"\"\n",
    "        p = torch.as_tensor(point, dtype=torch.double)\n",
    "        x = self.euler2mat(angle)\n",
    "        qua = transforms.matrix_to_quaternion(x)\n",
    "\n",
    "        y = transforms.quaternion_apply(qua, p)\n",
    "        return y.numpy()\n",
    "\n",
    "\n",
    "\n",
    "\n",
    "angle = np.array([math.pi, 0., math.pi, math.pi, 0., math.pi, math.pi, 0., math.pi])\n",
    "# mat = Transform().euler2mat(angle)\n",
    "# a = transforms.matrix_to_euler_angles(mat, \"ZYX\")\n",
    "\n",
    "action = angle.reshape(3, -1)\n",
    "lattice = np.array([[4., 0,  1], [0,  2., 0], [0,  0,  2.]])\n",
    "\n",
    "\n",
    "# new_lattice = Transform().euler_rotate(action, lattice)\n",
    "# new_lattice\n",
    "\n",
    "\n",
    "for i in range(3):\n",
    "                mat = Transform().euler2mat(action[i])\n",
    "                lattice[i] = np.matmul(mat, lattice[i])\n",
    "\n",
    "lattice\n",
    "\n",
    "for i in range(self.dim):\n",
    "                mat = Transform().euler2mat(self.cell.action.angle[i])\n",
    "                self.cell.state.lattice[i] = np.matmul(mat, self.cell.state.lattice[i])"
   ]
  },
  {
   "cell_type": "code",
   "execution_count": null,
   "metadata": {},
   "outputs": [],
   "source": [
    "import numpy as np\n",
    "np.ceil"
   ]
  }
 ],
 "metadata": {
  "kernelspec": {
   "display_name": "Python 3.7.13 ('pytorch3d')",
   "language": "python",
   "name": "python3"
  },
  "language_info": {
   "codemirror_mode": {
    "name": "ipython",
    "version": 3
   },
   "file_extension": ".py",
   "mimetype": "text/x-python",
   "name": "python",
   "nbconvert_exporter": "python",
   "pygments_lexer": "ipython3",
   "version": "3.7.13"
  },
  "orig_nbformat": 4,
  "vscode": {
   "interpreter": {
    "hash": "5b14629d4c2508e12df5a608d99e923bb6a1a917a20383be71c5649ced98a298"
   }
  }
 },
 "nbformat": 4,
 "nbformat_minor": 2
}
